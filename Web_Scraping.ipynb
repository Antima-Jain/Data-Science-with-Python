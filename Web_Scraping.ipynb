{
 "cells": [
  {
   "cell_type": "markdown",
   "id": "0d691f0d",
   "metadata": {},
   "source": [
    "# Importing Libraries"
   ]
  },
  {
   "cell_type": "code",
   "execution_count": 1,
   "id": "257daa9e",
   "metadata": {},
   "outputs": [],
   "source": [
    "import pandas as pd\n",
    "import urllib.request\n",
    "import urllib.parse\n",
    "from urllib.request import urlopen\n",
    "from bs4 import BeautifulSoup as bs"
   ]
  },
  {
   "cell_type": "markdown",
   "id": "0d9f4e42",
   "metadata": {},
   "source": [
    "# Fetching URL and Parsing HTML"
   ]
  },
  {
   "cell_type": "code",
   "execution_count": 3,
   "id": "60fcdf61",
   "metadata": {},
   "outputs": [],
   "source": [
    "wp=urllib.request.urlopen('https://yoshops.com/products')\n",
    "sp=bs(wp.read(),'html.parser')"
   ]
  },
  {
   "cell_type": "markdown",
   "id": "2a0b19f8",
   "metadata": {},
   "source": [
    "# Finding element"
   ]
  },
  {
   "cell_type": "code",
   "execution_count": 4,
   "id": "08e4f610",
   "metadata": {},
   "outputs": [],
   "source": [
    "result=sp.find_all('div',attrs={'class':'product'})"
   ]
  },
  {
   "cell_type": "markdown",
   "id": "fe613a0f",
   "metadata": {},
   "source": [
    "# Getting first product from first page"
   ]
  },
  {
   "cell_type": "code",
   "execution_count": 5,
   "id": "6af31a52",
   "metadata": {},
   "outputs": [
    {
     "data": {
      "text/plain": [
       "'Reliance Jio Phone'"
      ]
     },
     "execution_count": 5,
     "metadata": {},
     "output_type": "execute_result"
    }
   ],
   "source": [
    "result[0].find('span',attrs={'class':'product-title'}).get_text()"
   ]
  },
  {
   "cell_type": "markdown",
   "id": "2f5a1c3d",
   "metadata": {},
   "source": [
    "# Getting new and old prices of the product from first page"
   ]
  },
  {
   "cell_type": "code",
   "execution_count": 6,
   "id": "0ec88abc",
   "metadata": {},
   "outputs": [
    {
     "name": "stdout",
     "output_type": "stream",
     "text": [
      "['1,499.00', '1.00', '799.00', '8,999.00', '999.00', '1,499.00', '799.00', '2,999.00', '499.00', '799.00', '1,999.00', '19,999.00', '349.00', '799.00', '549.00', '699.00', '399.00', '399.00', '399.00', '699.00', '19,999.00', '1.00', '199.00', '1,699.00', '299.00', '1,299.00', '599.00', '2,299.00', '499.00', '2,999.00', '299.00', '6,999.00', '19,999.00', '19,999.00', '19,999.00', '999.00', '2,299.00', '1,499.00', '1,299.00', '699.00', '2,299.00', '369.00', '999.00', '5,999.00', '1,499.00', '9,999.00', '9,999.00', '275.00']\n",
      "['1,999.00', '999.00', '2,990.00', '12,289.00', '2,789.00', '4,000.00', '999.00', '3,999.00', '2,000.00', '2,987.00', '2,879.00', '21,790.00', '800.00', '2,023.00', '1,225.00', '1,687.00', '999.00', '800.00', '999.00', '1,599.00', '25,000.00', '999.00', '250.00', '1,999.00', '870.00', '3,564.00', '1,236.00', '4,678.00', '995.00', '6,499.00', '999.00', '9,843.00', '25,000.00', '25,000.00', '25,000.00', '1,459.00', '7,891.00', '2,897.00', '3,678.00', '3,789.00', '4,678.00', '1,428.00', '1,500.00', '9,800.00', '2,589.00', '14,985.00', '45,985.00', '275.00']\n"
     ]
    }
   ],
   "source": [
    "ab=[]\n",
    "bc=[]\n",
    "for a in sp.find_all('div',{'class':'product-price'}):\n",
    "    new_price=a.text.strip().split('₹')\n",
    "    New_price=new_price[2]\n",
    "    Old_price=new_price[1]\n",
    "    ab.append(New_price)\n",
    "    bc.append(Old_price)\n",
    "print(ab)\n",
    "print(bc)"
   ]
  },
  {
   "cell_type": "markdown",
   "id": "8de8a535",
   "metadata": {},
   "source": [
    "# Getting first product's link from first page"
   ]
  },
  {
   "cell_type": "code",
   "execution_count": 7,
   "id": "295b9400",
   "metadata": {},
   "outputs": [
    {
     "data": {
      "text/plain": [
       "'https://yoshops.com/products/reliance-jio-phone1'"
      ]
     },
     "execution_count": 7,
     "metadata": {},
     "output_type": "execute_result"
    }
   ],
   "source": [
    "rel_link=result[0].find('a',attrs={'class':'product-link'}).get('href')\n",
    "base_url='https://yoshops.com'\n",
    "final_url=base_url+rel_link\n",
    "final_url"
   ]
  },
  {
   "cell_type": "markdown",
   "id": "e327cb8c",
   "metadata": {},
   "source": [
    "# Scraping first page"
   ]
  },
  {
   "cell_type": "code",
   "execution_count": 8,
   "id": "68763433",
   "metadata": {},
   "outputs": [],
   "source": [
    "product_name=[]\n",
    "relative_link=[]\n",
    "New_prices=[]\n",
    "Old_prices=[]\n",
    "for resul in result:\n",
    "    try:\n",
    "        product_name.append(resul.find('span',attrs={'class':'product-title'}).get_text())\n",
    "    except:\n",
    "        product_name.append('n/a')\n",
    "    try:\n",
    "        relative_link.append(resul.find('a',attrs={'class':'product-link'}).get('href'))\n",
    "    except:\n",
    "        relative_link.append('n/a')\n",
    "    try:\n",
    "        New_prices=ab\n",
    "    except:\n",
    "        New_prices.append('n/a')\n",
    "    try:\n",
    "        Old_prices=bc\n",
    "    except:\n",
    "        Old_prices.append('n/a')"
   ]
  },
  {
   "cell_type": "code",
   "execution_count": 9,
   "id": "b48a0eb6",
   "metadata": {},
   "outputs": [
    {
     "data": {
      "text/plain": [
       "['Reliance Jio Phone',\n",
       " 'Summer Internship Gift',\n",
       " 'Boat Rockerz 255 Wireless Bluetooth Headset with Mic (Black)',\n",
       " 'Sony PlayStation PS2 Gaming Console 150 GB Hard Disk With 50 Games Preloaded(Black)',\n",
       " 'boAT Airdopes X3 Bass Wireless Earbuds with Charging Case (White)',\n",
       " 'Vmax HX 750 Quadcopter Drone (No Camera)',\n",
       " 'Boat Rockerz 530 Foldable Bluetooth Headphone with Mic (Carbon Black)',\n",
       " 'Reliance Jio Phone 2',\n",
       " 'Yoshops VR BOX Virtual Reality Glasses Headset 2.0 View Suitable For 4-6 Inch Smartphones',\n",
       " 'Samsung Level U Bluetooth Wireless in-Ear Headphones With Mic (Black)',\n",
       " 'Zebronics External TV Tuner Card TL1010',\n",
       " 'Sony PlayStation PS3 Console Slim 320 GB (Black)',\n",
       " 'Barbie Doll (pink)',\n",
       " 'HX-713 Remote Control Helicopter',\n",
       " 'Boat Nirvanaa Uno Wired In-ear Earphones with Mic (Black)',\n",
       " 'Boat Rockerz 225 Plastic Wireless Bluetooth Headset with Mic (Black)',\n",
       " 'JBL Tempo On-Ear Headphone',\n",
       " 'JBL Tempo On-Ear Headphone With Mic – MS176 (Black)',\n",
       " 'Sony On-Ear Phone With Microphone Wired Headphones MS177',\n",
       " 'Mi Neckband Bluetooth Headset with Mic (Black)',\n",
       " 'Data Science Internship Training Program',\n",
       " 'Refer and Earn Rs.2000 and Get Free Partnership Gift',\n",
       " '1KG Chicken Biryani (Chennai)',\n",
       " 'Zebronics ZEB-U740 UPS 600VA',\n",
       " 'Puppy House Coin Piggy Bank',\n",
       " 'The Amazing Spider Man Micro Drone Q Series Hyun Lights Upgraded Quadcopter Headless Mode One Key Features',\n",
       " 'Super Power JCB Truck Construction Loader Excavator Crane Toys',\n",
       " 'Falcon Drone Four Axis Aircraft with 2.4 GHz RC, Blade Guard, Headless Mode LED Without Camera',\n",
       " 'Dell KB216 Multimedia USB Wired Keyboard',\n",
       " 'Kids Drone Quadcopter 2.4G 6-Channel Without Camera',\n",
       " 'Boat Rockerz 335 STEREO EARPHONES (Black/Gold)',\n",
       " 'Sony PlayStation PS1 with in-built DVD Player (Black)',\n",
       " 'Blockchain Developer Internship Training Program',\n",
       " 'Hospitality Internship Training Program',\n",
       " 'Cyber Security Internship Training Program',\n",
       " 'Lava Captain N1 Red',\n",
       " 'VMax HX763 Vision Drone 2.4GHz RC Quad-copter Headless Mode One Key Without Camera',\n",
       " 'HX770 V-Max Aircraft Drone',\n",
       " 'Diabolo Captain America Civil War Q Series Hyun Lights Upgraded Mini Drone Without Camera',\n",
       " 'Samsung U Flex Wireless Bluetooth Flexible Headphones with Mic (Black)',\n",
       " 'Avengers Captain America Drone Four Axis Aircraft with 2.4 GHz Without Camera',\n",
       " 'BOSE Sound True SQ2 Headphones Pouch (Black)',\n",
       " '1 Bucket Chicken Biryani Party Pack 5kg (Chennai)',\n",
       " 'MitSonic 20 Inches (53 cm) FULL HD Gorilla Glass LED TV',\n",
       " 'Spider Man Mini Drone',\n",
       " 'Machine learning Internship Training Program',\n",
       " 'BigData Hadoop and Apache Spark Internship Training Program',\n",
       " 'Zebronics H-100HM Headphone with Mic']"
      ]
     },
     "execution_count": 9,
     "metadata": {},
     "output_type": "execute_result"
    }
   ],
   "source": [
    "product_name"
   ]
  },
  {
   "cell_type": "code",
   "execution_count": 10,
   "id": "707abcb6",
   "metadata": {},
   "outputs": [
    {
     "data": {
      "text/plain": [
       "['/products/reliance-jio-phone1',\n",
       " '/products/summer-internship-gift',\n",
       " '/products/boat-rockerz-255-wireless-bluetooth-headset-with-mic-black',\n",
       " '/products/sony-playstation-ps2-gaming-console-150-gb-hard-disk-with-50-games-preloaded-black',\n",
       " '/products/boat-airdopes-x3-bass-wireless-earbuds-with-charging-case-white',\n",
       " '/products/hx-750-remote-control-flying-drone',\n",
       " '/products/boat-rockerz-530-foldable-bluetooth-headphone-with-mic-carbon-black',\n",
       " '/products/reliance-jio-phone-2',\n",
       " '/products/yoshops-vr-box-virtual-reality-glasses-headset-2-0-view-suitable-for-4-6-inch-smartphones',\n",
       " '/products/samsung-level-u-bluetooth-wireless-in-ear-headphones-with-mic-black',\n",
       " '/products/zebronics-external-tv-tuner-card-tl1010',\n",
       " '/products/sony-playstation-3-console-slim-320-gb-black',\n",
       " '/products/barbie-doll',\n",
       " '/products/hx-713-remote-control-helicopter',\n",
       " '/products/boat-nirvanaa-uno-wired-in-ear-earphones-with-mic-black',\n",
       " '/products/boat-rockerz-225-wireless-bluetooth-headset-with-mic-black',\n",
       " '/products/jbl-tempo-on-ear-headphone',\n",
       " '/products/xn-jbl-tempo-on-ear-headphone-with-mic-ms176-black-et05a',\n",
       " '/products/xn-sony-on-ear-headphone-with-mic-ms177-black-jt71a',\n",
       " '/products/mi-neckband-bluetooth-headset-with-mic-black',\n",
       " '/products/data-science-internship-training-program',\n",
       " '/products/refer-and-earn-rs-2000-and-get-free-partnership-gift',\n",
       " '/products/1-kg-chicken-biryani',\n",
       " '/products/zebronics-zeb-u740-ups-600va',\n",
       " '/products/puppy-house-coin-piggy-bank',\n",
       " '/products/the-amazing-spider-man-q-series-24ghz-rc-quad-copter-drone',\n",
       " '/products/super-power-jcb-truck-construction-loader-excavator-crane-toys1',\n",
       " '/products/falcon-drone-four-axis-aircraft-with-2-4-ghz-rc-blade-guard-headless-mode-led-without-camera',\n",
       " '/products/dell-kb216-multimedia-usb-wired-keyboard',\n",
       " '/products/kids-drone-quadcopter-2-4g-6-channel-without-camera',\n",
       " '/products/boat-rockerz-335-stereo-earphones-blackgold',\n",
       " '/products/sony-playstation-ps2-with-in-built-dvd-player-black',\n",
       " '/products/blockchain-developer-internship-training-program1',\n",
       " '/products/hospitality-internship-training-program1',\n",
       " '/products/cyber-security-internship-training-program',\n",
       " '/products/lava-captain-n1-red',\n",
       " '/products/vmax-vision-hx763-drone-remote-control-quadrocopter',\n",
       " '/products/hx770-v-max-aircraft-drone',\n",
       " '/products/captain-america-24ghz-rc-quad-copter-drone',\n",
       " '/products/samsung-u-flex-wireless-bluetooth-flexible-headphones-with-mic-black',\n",
       " '/products/avengers-captain-america-drone-four-axis-aircraft-with-2-4-ghz-rc-blade-guard-headless-mode-led-without-camera',\n",
       " '/products/sound-true-sq2',\n",
       " '/products/1-bucket-chechen-biryani-party-pack-5kg',\n",
       " '/products/mitsonic-mt2001-53cm-20-full-hd-led-television',\n",
       " '/products/spider-man-mini-drone',\n",
       " '/products/artificial-intelligence-and-machine-learning-internship-training-program',\n",
       " '/products/bigdata-hadoop-and-apache-spark-internship-training-program',\n",
       " '/products/zebronics-h-100hm-headphone-with-mic']"
      ]
     },
     "execution_count": 10,
     "metadata": {},
     "output_type": "execute_result"
    }
   ],
   "source": [
    "relative_link"
   ]
  },
  {
   "cell_type": "code",
   "execution_count": 11,
   "id": "f7a1e395",
   "metadata": {},
   "outputs": [
    {
     "data": {
      "text/plain": [
       "['1,499.00',\n",
       " '1.00',\n",
       " '799.00',\n",
       " '8,999.00',\n",
       " '999.00',\n",
       " '1,499.00',\n",
       " '799.00',\n",
       " '2,999.00',\n",
       " '499.00',\n",
       " '799.00',\n",
       " '1,999.00',\n",
       " '19,999.00',\n",
       " '349.00',\n",
       " '799.00',\n",
       " '549.00',\n",
       " '699.00',\n",
       " '399.00',\n",
       " '399.00',\n",
       " '399.00',\n",
       " '699.00',\n",
       " '19,999.00',\n",
       " '1.00',\n",
       " '199.00',\n",
       " '1,699.00',\n",
       " '299.00',\n",
       " '1,299.00',\n",
       " '599.00',\n",
       " '2,299.00',\n",
       " '499.00',\n",
       " '2,999.00',\n",
       " '299.00',\n",
       " '6,999.00',\n",
       " '19,999.00',\n",
       " '19,999.00',\n",
       " '19,999.00',\n",
       " '999.00',\n",
       " '2,299.00',\n",
       " '1,499.00',\n",
       " '1,299.00',\n",
       " '699.00',\n",
       " '2,299.00',\n",
       " '369.00',\n",
       " '999.00',\n",
       " '5,999.00',\n",
       " '1,499.00',\n",
       " '9,999.00',\n",
       " '9,999.00',\n",
       " '275.00']"
      ]
     },
     "execution_count": 11,
     "metadata": {},
     "output_type": "execute_result"
    }
   ],
   "source": [
    "New_prices"
   ]
  },
  {
   "cell_type": "code",
   "execution_count": 12,
   "id": "aeaafcbc",
   "metadata": {},
   "outputs": [
    {
     "data": {
      "text/plain": [
       "['1,999.00',\n",
       " '999.00',\n",
       " '2,990.00',\n",
       " '12,289.00',\n",
       " '2,789.00',\n",
       " '4,000.00',\n",
       " '999.00',\n",
       " '3,999.00',\n",
       " '2,000.00',\n",
       " '2,987.00',\n",
       " '2,879.00',\n",
       " '21,790.00',\n",
       " '800.00',\n",
       " '2,023.00',\n",
       " '1,225.00',\n",
       " '1,687.00',\n",
       " '999.00',\n",
       " '800.00',\n",
       " '999.00',\n",
       " '1,599.00',\n",
       " '25,000.00',\n",
       " '999.00',\n",
       " '250.00',\n",
       " '1,999.00',\n",
       " '870.00',\n",
       " '3,564.00',\n",
       " '1,236.00',\n",
       " '4,678.00',\n",
       " '995.00',\n",
       " '6,499.00',\n",
       " '999.00',\n",
       " '9,843.00',\n",
       " '25,000.00',\n",
       " '25,000.00',\n",
       " '25,000.00',\n",
       " '1,459.00',\n",
       " '7,891.00',\n",
       " '2,897.00',\n",
       " '3,678.00',\n",
       " '3,789.00',\n",
       " '4,678.00',\n",
       " '1,428.00',\n",
       " '1,500.00',\n",
       " '9,800.00',\n",
       " '2,589.00',\n",
       " '14,985.00',\n",
       " '45,985.00',\n",
       " '275.00']"
      ]
     },
     "execution_count": 12,
     "metadata": {},
     "output_type": "execute_result"
    }
   ],
   "source": [
    "Old_prices"
   ]
  },
  {
   "cell_type": "markdown",
   "id": "60f39359",
   "metadata": {},
   "source": [
    "# Getting all the products link from first page"
   ]
  },
  {
   "cell_type": "code",
   "execution_count": 13,
   "id": "51890dd8",
   "metadata": {},
   "outputs": [],
   "source": [
    "url_combined=[]\n",
    "for link in relative_link:\n",
    "    url_combined.append(urllib.parse.urljoin(base_url,link))"
   ]
  },
  {
   "cell_type": "code",
   "execution_count": 14,
   "id": "19e9fdb1",
   "metadata": {},
   "outputs": [
    {
     "data": {
      "text/plain": [
       "['https://yoshops.com/products/reliance-jio-phone1',\n",
       " 'https://yoshops.com/products/summer-internship-gift',\n",
       " 'https://yoshops.com/products/boat-rockerz-255-wireless-bluetooth-headset-with-mic-black',\n",
       " 'https://yoshops.com/products/sony-playstation-ps2-gaming-console-150-gb-hard-disk-with-50-games-preloaded-black',\n",
       " 'https://yoshops.com/products/boat-airdopes-x3-bass-wireless-earbuds-with-charging-case-white',\n",
       " 'https://yoshops.com/products/hx-750-remote-control-flying-drone',\n",
       " 'https://yoshops.com/products/boat-rockerz-530-foldable-bluetooth-headphone-with-mic-carbon-black',\n",
       " 'https://yoshops.com/products/reliance-jio-phone-2',\n",
       " 'https://yoshops.com/products/yoshops-vr-box-virtual-reality-glasses-headset-2-0-view-suitable-for-4-6-inch-smartphones',\n",
       " 'https://yoshops.com/products/samsung-level-u-bluetooth-wireless-in-ear-headphones-with-mic-black',\n",
       " 'https://yoshops.com/products/zebronics-external-tv-tuner-card-tl1010',\n",
       " 'https://yoshops.com/products/sony-playstation-3-console-slim-320-gb-black',\n",
       " 'https://yoshops.com/products/barbie-doll',\n",
       " 'https://yoshops.com/products/hx-713-remote-control-helicopter',\n",
       " 'https://yoshops.com/products/boat-nirvanaa-uno-wired-in-ear-earphones-with-mic-black',\n",
       " 'https://yoshops.com/products/boat-rockerz-225-wireless-bluetooth-headset-with-mic-black',\n",
       " 'https://yoshops.com/products/jbl-tempo-on-ear-headphone',\n",
       " 'https://yoshops.com/products/xn-jbl-tempo-on-ear-headphone-with-mic-ms176-black-et05a',\n",
       " 'https://yoshops.com/products/xn-sony-on-ear-headphone-with-mic-ms177-black-jt71a',\n",
       " 'https://yoshops.com/products/mi-neckband-bluetooth-headset-with-mic-black',\n",
       " 'https://yoshops.com/products/data-science-internship-training-program',\n",
       " 'https://yoshops.com/products/refer-and-earn-rs-2000-and-get-free-partnership-gift',\n",
       " 'https://yoshops.com/products/1-kg-chicken-biryani',\n",
       " 'https://yoshops.com/products/zebronics-zeb-u740-ups-600va',\n",
       " 'https://yoshops.com/products/puppy-house-coin-piggy-bank',\n",
       " 'https://yoshops.com/products/the-amazing-spider-man-q-series-24ghz-rc-quad-copter-drone',\n",
       " 'https://yoshops.com/products/super-power-jcb-truck-construction-loader-excavator-crane-toys1',\n",
       " 'https://yoshops.com/products/falcon-drone-four-axis-aircraft-with-2-4-ghz-rc-blade-guard-headless-mode-led-without-camera',\n",
       " 'https://yoshops.com/products/dell-kb216-multimedia-usb-wired-keyboard',\n",
       " 'https://yoshops.com/products/kids-drone-quadcopter-2-4g-6-channel-without-camera',\n",
       " 'https://yoshops.com/products/boat-rockerz-335-stereo-earphones-blackgold',\n",
       " 'https://yoshops.com/products/sony-playstation-ps2-with-in-built-dvd-player-black',\n",
       " 'https://yoshops.com/products/blockchain-developer-internship-training-program1',\n",
       " 'https://yoshops.com/products/hospitality-internship-training-program1',\n",
       " 'https://yoshops.com/products/cyber-security-internship-training-program',\n",
       " 'https://yoshops.com/products/lava-captain-n1-red',\n",
       " 'https://yoshops.com/products/vmax-vision-hx763-drone-remote-control-quadrocopter',\n",
       " 'https://yoshops.com/products/hx770-v-max-aircraft-drone',\n",
       " 'https://yoshops.com/products/captain-america-24ghz-rc-quad-copter-drone',\n",
       " 'https://yoshops.com/products/samsung-u-flex-wireless-bluetooth-flexible-headphones-with-mic-black',\n",
       " 'https://yoshops.com/products/avengers-captain-america-drone-four-axis-aircraft-with-2-4-ghz-rc-blade-guard-headless-mode-led-without-camera',\n",
       " 'https://yoshops.com/products/sound-true-sq2',\n",
       " 'https://yoshops.com/products/1-bucket-chechen-biryani-party-pack-5kg',\n",
       " 'https://yoshops.com/products/mitsonic-mt2001-53cm-20-full-hd-led-television',\n",
       " 'https://yoshops.com/products/spider-man-mini-drone',\n",
       " 'https://yoshops.com/products/artificial-intelligence-and-machine-learning-internship-training-program',\n",
       " 'https://yoshops.com/products/bigdata-hadoop-and-apache-spark-internship-training-program',\n",
       " 'https://yoshops.com/products/zebronics-h-100hm-headphone-with-mic']"
      ]
     },
     "execution_count": 14,
     "metadata": {},
     "output_type": "execute_result"
    }
   ],
   "source": [
    "url_combined"
   ]
  },
  {
   "cell_type": "markdown",
   "id": "e426a462",
   "metadata": {},
   "source": [
    "# Scraping all the pages"
   ]
  },
  {
   "cell_type": "code",
   "execution_count": 15,
   "id": "c86f6f89",
   "metadata": {},
   "outputs": [],
   "source": [
    "product_name=[]\n",
    "relative_link=[]\n",
    "New_prices=[]\n",
    "Old_prices=[]\n",
    "ab=[]\n",
    "bc=[]\n",
    "\n",
    "for i in range(1,13):\n",
    "    website='https://yoshops.com/products?page='+str(i)\n",
    "    wp=urllib.request.urlopen('https://yoshops.com/products')\n",
    "    sp=bs(wp.read(),'html.parser')\n",
    "    for a in sp.find_all('div',{'class':'product-price'}):\n",
    "        new_price=a.text.strip().split('₹')\n",
    "        New_price=new_price[2]\n",
    "        Old_price=new_price[1]\n",
    "        ab.append(New_price)\n",
    "        bc.append(Old_price)\n",
    "    result=sp.find_all('div',attrs={'class':'product'})\n",
    "    \n",
    "    for resul in result:\n",
    "        try:\n",
    "            product_name.append(resul.find('span',attrs={'class':'product-title'}).get_text())\n",
    "        except:\n",
    "            product_name.append('n/a')\n",
    "        try:\n",
    "            relative_link.append(resul.find('a',attrs={'class':'product-link'}).get('href'))\n",
    "        except:\n",
    "            relative_link.append('n/a')\n",
    "        try:\n",
    "            New_prices=ab\n",
    "        except:\n",
    "            New_prices.append('n/a')\n",
    "        try:\n",
    "            Old_prices=bc\n",
    "        except:\n",
    "            Old_prices.append('n/a')"
   ]
  },
  {
   "cell_type": "markdown",
   "id": "52e209e2",
   "metadata": {},
   "source": [
    "# Getting products link from all the pages"
   ]
  },
  {
   "cell_type": "code",
   "execution_count": 16,
   "id": "793fa05b",
   "metadata": {},
   "outputs": [],
   "source": [
    "url_combined=[]\n",
    "for link in relative_link:\n",
    "    url_combined.append(urllib.parse.urljoin(base_url,link))"
   ]
  },
  {
   "cell_type": "markdown",
   "id": "6db1bea2",
   "metadata": {},
   "source": [
    "# Creating Dataframe"
   ]
  },
  {
   "cell_type": "code",
   "execution_count": 17,
   "id": "4374c2b4",
   "metadata": {},
   "outputs": [],
   "source": [
    "product_overview=pd.DataFrame({'Product_Name':product_name,'New_Price':New_prices,'Old_Price':Old_prices,'Product_link':url_combined})"
   ]
  },
  {
   "cell_type": "code",
   "execution_count": 18,
   "id": "4deed901",
   "metadata": {},
   "outputs": [
    {
     "data": {
      "text/html": [
       "<div>\n",
       "<style scoped>\n",
       "    .dataframe tbody tr th:only-of-type {\n",
       "        vertical-align: middle;\n",
       "    }\n",
       "\n",
       "    .dataframe tbody tr th {\n",
       "        vertical-align: top;\n",
       "    }\n",
       "\n",
       "    .dataframe thead th {\n",
       "        text-align: right;\n",
       "    }\n",
       "</style>\n",
       "<table border=\"1\" class=\"dataframe\">\n",
       "  <thead>\n",
       "    <tr style=\"text-align: right;\">\n",
       "      <th></th>\n",
       "      <th>Product_Name</th>\n",
       "      <th>New_Price</th>\n",
       "      <th>Old_Price</th>\n",
       "      <th>Product_link</th>\n",
       "    </tr>\n",
       "  </thead>\n",
       "  <tbody>\n",
       "    <tr>\n",
       "      <th>0</th>\n",
       "      <td>Reliance Jio Phone</td>\n",
       "      <td>1,499.00</td>\n",
       "      <td>1,999.00</td>\n",
       "      <td>https://yoshops.com/products/reliance-jio-phone1</td>\n",
       "    </tr>\n",
       "    <tr>\n",
       "      <th>1</th>\n",
       "      <td>Summer Internship Gift</td>\n",
       "      <td>1.00</td>\n",
       "      <td>999.00</td>\n",
       "      <td>https://yoshops.com/products/summer-internship...</td>\n",
       "    </tr>\n",
       "    <tr>\n",
       "      <th>2</th>\n",
       "      <td>Boat Rockerz 255 Wireless Bluetooth Headset wi...</td>\n",
       "      <td>799.00</td>\n",
       "      <td>2,990.00</td>\n",
       "      <td>https://yoshops.com/products/boat-rockerz-255-...</td>\n",
       "    </tr>\n",
       "    <tr>\n",
       "      <th>3</th>\n",
       "      <td>Sony PlayStation PS2 Gaming Console 150 GB Har...</td>\n",
       "      <td>8,999.00</td>\n",
       "      <td>12,289.00</td>\n",
       "      <td>https://yoshops.com/products/sony-playstation-...</td>\n",
       "    </tr>\n",
       "    <tr>\n",
       "      <th>4</th>\n",
       "      <td>boAT Airdopes X3 Bass Wireless Earbuds with Ch...</td>\n",
       "      <td>999.00</td>\n",
       "      <td>2,789.00</td>\n",
       "      <td>https://yoshops.com/products/boat-airdopes-x3-...</td>\n",
       "    </tr>\n",
       "    <tr>\n",
       "      <th>...</th>\n",
       "      <td>...</td>\n",
       "      <td>...</td>\n",
       "      <td>...</td>\n",
       "      <td>...</td>\n",
       "    </tr>\n",
       "    <tr>\n",
       "      <th>571</th>\n",
       "      <td>MitSonic 20 Inches (53 cm) FULL HD Gorilla Gla...</td>\n",
       "      <td>5,999.00</td>\n",
       "      <td>9,800.00</td>\n",
       "      <td>https://yoshops.com/products/mitsonic-mt2001-5...</td>\n",
       "    </tr>\n",
       "    <tr>\n",
       "      <th>572</th>\n",
       "      <td>Spider Man Mini Drone</td>\n",
       "      <td>1,499.00</td>\n",
       "      <td>2,589.00</td>\n",
       "      <td>https://yoshops.com/products/spider-man-mini-d...</td>\n",
       "    </tr>\n",
       "    <tr>\n",
       "      <th>573</th>\n",
       "      <td>Machine learning Internship Training Program</td>\n",
       "      <td>9,999.00</td>\n",
       "      <td>14,985.00</td>\n",
       "      <td>https://yoshops.com/products/artificial-intell...</td>\n",
       "    </tr>\n",
       "    <tr>\n",
       "      <th>574</th>\n",
       "      <td>BigData Hadoop and Apache Spark Internship Tra...</td>\n",
       "      <td>9,999.00</td>\n",
       "      <td>45,985.00</td>\n",
       "      <td>https://yoshops.com/products/bigdata-hadoop-an...</td>\n",
       "    </tr>\n",
       "    <tr>\n",
       "      <th>575</th>\n",
       "      <td>Zebronics H-100HM Headphone with Mic</td>\n",
       "      <td>275.00</td>\n",
       "      <td>275.00</td>\n",
       "      <td>https://yoshops.com/products/zebronics-h-100hm...</td>\n",
       "    </tr>\n",
       "  </tbody>\n",
       "</table>\n",
       "<p>576 rows × 4 columns</p>\n",
       "</div>"
      ],
      "text/plain": [
       "                                          Product_Name New_Price  Old_Price  \\\n",
       "0                                   Reliance Jio Phone  1,499.00   1,999.00   \n",
       "1                               Summer Internship Gift      1.00     999.00   \n",
       "2    Boat Rockerz 255 Wireless Bluetooth Headset wi...    799.00   2,990.00   \n",
       "3    Sony PlayStation PS2 Gaming Console 150 GB Har...  8,999.00  12,289.00   \n",
       "4    boAT Airdopes X3 Bass Wireless Earbuds with Ch...    999.00   2,789.00   \n",
       "..                                                 ...       ...        ...   \n",
       "571  MitSonic 20 Inches (53 cm) FULL HD Gorilla Gla...  5,999.00   9,800.00   \n",
       "572                              Spider Man Mini Drone  1,499.00   2,589.00   \n",
       "573       Machine learning Internship Training Program  9,999.00  14,985.00   \n",
       "574  BigData Hadoop and Apache Spark Internship Tra...  9,999.00  45,985.00   \n",
       "575               Zebronics H-100HM Headphone with Mic    275.00     275.00   \n",
       "\n",
       "                                          Product_link  \n",
       "0     https://yoshops.com/products/reliance-jio-phone1  \n",
       "1    https://yoshops.com/products/summer-internship...  \n",
       "2    https://yoshops.com/products/boat-rockerz-255-...  \n",
       "3    https://yoshops.com/products/sony-playstation-...  \n",
       "4    https://yoshops.com/products/boat-airdopes-x3-...  \n",
       "..                                                 ...  \n",
       "571  https://yoshops.com/products/mitsonic-mt2001-5...  \n",
       "572  https://yoshops.com/products/spider-man-mini-d...  \n",
       "573  https://yoshops.com/products/artificial-intell...  \n",
       "574  https://yoshops.com/products/bigdata-hadoop-an...  \n",
       "575  https://yoshops.com/products/zebronics-h-100hm...  \n",
       "\n",
       "[576 rows x 4 columns]"
      ]
     },
     "execution_count": 18,
     "metadata": {},
     "output_type": "execute_result"
    }
   ],
   "source": [
    "product_overview"
   ]
  },
  {
   "cell_type": "code",
   "execution_count": null,
   "id": "bbee8f61",
   "metadata": {},
   "outputs": [],
   "source": []
  }
 ],
 "metadata": {
  "kernelspec": {
   "display_name": "Python 3 (ipykernel)",
   "language": "python",
   "name": "python3"
  },
  "language_info": {
   "codemirror_mode": {
    "name": "ipython",
    "version": 3
   },
   "file_extension": ".py",
   "mimetype": "text/x-python",
   "name": "python",
   "nbconvert_exporter": "python",
   "pygments_lexer": "ipython3",
   "version": "3.9.7"
  }
 },
 "nbformat": 4,
 "nbformat_minor": 5
}
